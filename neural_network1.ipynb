{
  "nbformat": 4,
  "nbformat_minor": 0,
  "metadata": {
    "colab": {
      "name": "neural-network1.ipynb",
      "provenance": [],
      "authorship_tag": "ABX9TyP5ah4IBHTVHfPknVi55XSJ",
      "include_colab_link": true
    },
    "kernelspec": {
      "name": "python3",
      "display_name": "Python 3"
    },
    "language_info": {
      "name": "python"
    }
  },
  "cells": [
    {
      "cell_type": "markdown",
      "metadata": {
        "id": "view-in-github",
        "colab_type": "text"
      },
      "source": [
        "<a href=\"https://colab.research.google.com/github/bernardogoltz/rede-neural/blob/main/neural_network1.ipynb\" target=\"_parent\"><img src=\"https://colab.research.google.com/assets/colab-badge.svg\" alt=\"Open In Colab\"/></a>"
      ]
    },
    {
      "cell_type": "code",
      "execution_count": 1,
      "metadata": {
        "id": "c-PemI0e7VhJ"
      },
      "outputs": [],
      "source": [
        "import numpy as np"
      ]
    },
    {
      "cell_type": "code",
      "source": [
        "def redeNeural(x1, x2, w1, w2 , b ):\n",
        "    z = x1 * w1 + x2 + w2 + b \n",
        "    return sigmoide(z)\n",
        "\n",
        "def sigmoide(x):\n",
        "    return 1/(1+np.exp(-x))"
      ],
      "metadata": {
        "id": "UJ55yJXL7koh"
      },
      "execution_count": 7,
      "outputs": []
    },
    {
      "cell_type": "code",
      "source": [
        "w1 = np.random.randn()\n",
        "w2 = np.random.randn()\n",
        "b = np.random.randn()"
      ],
      "metadata": {
        "id": "L4lGvAAh9CzU"
      },
      "execution_count": 10,
      "outputs": []
    },
    {
      "cell_type": "code",
      "source": [
        "redeNeural(3 , 1.5 , w1 , w2 , b)"
      ],
      "metadata": {
        "colab": {
          "base_uri": "https://localhost:8080/"
        },
        "id": "aqVcZJmb9OJ7",
        "outputId": "e19ceaa7-410f-4e2c-bedd-6e85a55726c4"
      },
      "execution_count": 16,
      "outputs": [
        {
          "output_type": "execute_result",
          "data": {
            "text/plain": [
              "0.9832164318055855"
            ]
          },
          "metadata": {},
          "execution_count": 16
        }
      ]
    }
  ]
}